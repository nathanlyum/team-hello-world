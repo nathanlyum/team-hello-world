{
 "cells": [
  {
   "cell_type": "code",
   "execution_count": 52,
   "id": "1957afa9",
   "metadata": {},
   "outputs": [
    {
     "name": "stdout",
     "output_type": "stream",
     "text": [
      "(33, 50)\n"
     ]
    }
   ],
   "source": [
    "import numpy as np\n",
    "import numpy.matlib as npm\n",
    "import matplotlib.pyplot as plt\n",
    "import numpy.linalg as npl\n",
    "from sklearn.experimental import enable_iterative_imputer\n",
    "from sklearn.impute import SimpleImputer\n",
    "from sklearn.impute import IterativeImputer\n",
    "from sklearn.impute import KNNImputer\n",
    "\n",
    "with open(r\"C:\\Users\\Aiden\\Downloads\\BLT_Data_PCA.csv\", 'r') as f:\n",
    "    data = np.array([line.strip(\"\\n\").split(\",\") for line in f.readlines()[1:]])\n",
    "    groups = data.T[0]\n",
    "    data = data.T[1:].T\n",
    "    means = [np.mean([float(k) for k in feature if k != \"-\"]) for feature in data.T]\n",
    "    \n",
    "    for i, patient in enumerate(data):\n",
    "        for j, feature in enumerate(patient):\n",
    "            if feature == \"-\":\n",
    "                data[i, j] = np.nan\n",
    "                \n",
    "# with open(r\"test.csv\", \"w\") as f:\n",
    "#     for patient in data:\n",
    "#         f.write(\",\".join(patient) + \"\\n\")\n",
    "\n",
    "# for [samples, features]\n",
    "data = data.astype(float)\n",
    "\n",
    "# for [features, samples]\n",
    "#data = data.T.astype(float)\n",
    "\n",
    "print(data.shape)"
   ]
  },
  {
   "cell_type": "code",
   "execution_count": 54,
   "id": "bd5b34bc",
   "metadata": {
    "scrolled": true
   },
   "outputs": [
    {
     "name": "stdout",
     "output_type": "stream",
     "text": [
      "(33, 50)\n"
     ]
    }
   ],
   "source": [
    "#imp = SimpleImputer(missing_values=np.nan, strategy='mean')\n",
    "#imp = IterativeImputer(max_iter=10, random_state=0)\n",
    "imp = KNNImputer(n_neighbors=2, weights=\"uniform\")\n",
    "imp.fit(data)\n",
    "\n",
    "X = imp.transform(data)\n",
    "print(X.shape)"
   ]
  },
  {
   "cell_type": "code",
   "execution_count": null,
   "id": "1f30c596",
   "metadata": {},
   "outputs": [],
   "source": []
  }
 ],
 "metadata": {
  "kernelspec": {
   "display_name": "Python 3 (ipykernel)",
   "language": "python",
   "name": "python3"
  },
  "language_info": {
   "codemirror_mode": {
    "name": "ipython",
    "version": 3
   },
   "file_extension": ".py",
   "mimetype": "text/x-python",
   "name": "python",
   "nbconvert_exporter": "python",
   "pygments_lexer": "ipython3",
   "version": "3.9.12"
  }
 },
 "nbformat": 4,
 "nbformat_minor": 5
}
